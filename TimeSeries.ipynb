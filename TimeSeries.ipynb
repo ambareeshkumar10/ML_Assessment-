{
 "cells": [
  {
   "cell_type": "markdown",
   "id": "24d56a2f",
   "metadata": {},
   "source": [
    "# Part II: Time Series"
   ]
  },
  {
   "cell_type": "code",
   "execution_count": 54,
   "id": "9e5c3d02",
   "metadata": {},
   "outputs": [],
   "source": [
    "# Importing the libraries\n",
    "\n",
    "import pandas as pd\n",
    "import numpy as np\n",
    "import matplotlib as plt\n",
    "import statsmodels.api as sm\n",
    "import statsmodels.formula.api as smf\n",
    "from statsmodels.tsa.stattools import acf, pacf\n",
    "from statsmodels.tsa.stattools import adfuller"
   ]
  },
  {
   "cell_type": "code",
   "execution_count": 5,
   "id": "73ac4a11",
   "metadata": {
    "scrolled": true
   },
   "outputs": [
    {
     "data": {
      "text/html": [
       "<div>\n",
       "<style scoped>\n",
       "    .dataframe tbody tr th:only-of-type {\n",
       "        vertical-align: middle;\n",
       "    }\n",
       "\n",
       "    .dataframe tbody tr th {\n",
       "        vertical-align: top;\n",
       "    }\n",
       "\n",
       "    .dataframe thead th {\n",
       "        text-align: right;\n",
       "    }\n",
       "</style>\n",
       "<table border=\"1\" class=\"dataframe\">\n",
       "  <thead>\n",
       "    <tr style=\"text-align: right;\">\n",
       "      <th></th>\n",
       "      <th>market</th>\n",
       "      <th>month</th>\n",
       "      <th>year</th>\n",
       "      <th>quantity</th>\n",
       "      <th>priceMin</th>\n",
       "      <th>priceMax</th>\n",
       "      <th>priceMod</th>\n",
       "      <th>state</th>\n",
       "      <th>city</th>\n",
       "      <th>date</th>\n",
       "    </tr>\n",
       "  </thead>\n",
       "  <tbody>\n",
       "    <tr>\n",
       "      <th>0</th>\n",
       "      <td>ABOHAR(PB)</td>\n",
       "      <td>January</td>\n",
       "      <td>2005</td>\n",
       "      <td>2350</td>\n",
       "      <td>404</td>\n",
       "      <td>493</td>\n",
       "      <td>446</td>\n",
       "      <td>PB</td>\n",
       "      <td>ABOHAR</td>\n",
       "      <td>January-2005</td>\n",
       "    </tr>\n",
       "    <tr>\n",
       "      <th>1</th>\n",
       "      <td>ABOHAR(PB)</td>\n",
       "      <td>January</td>\n",
       "      <td>2006</td>\n",
       "      <td>900</td>\n",
       "      <td>487</td>\n",
       "      <td>638</td>\n",
       "      <td>563</td>\n",
       "      <td>PB</td>\n",
       "      <td>ABOHAR</td>\n",
       "      <td>January-2006</td>\n",
       "    </tr>\n",
       "    <tr>\n",
       "      <th>2</th>\n",
       "      <td>ABOHAR(PB)</td>\n",
       "      <td>January</td>\n",
       "      <td>2010</td>\n",
       "      <td>790</td>\n",
       "      <td>1283</td>\n",
       "      <td>1592</td>\n",
       "      <td>1460</td>\n",
       "      <td>PB</td>\n",
       "      <td>ABOHAR</td>\n",
       "      <td>January-2010</td>\n",
       "    </tr>\n",
       "    <tr>\n",
       "      <th>3</th>\n",
       "      <td>ABOHAR(PB)</td>\n",
       "      <td>January</td>\n",
       "      <td>2011</td>\n",
       "      <td>245</td>\n",
       "      <td>3067</td>\n",
       "      <td>3750</td>\n",
       "      <td>3433</td>\n",
       "      <td>PB</td>\n",
       "      <td>ABOHAR</td>\n",
       "      <td>January-2011</td>\n",
       "    </tr>\n",
       "    <tr>\n",
       "      <th>4</th>\n",
       "      <td>ABOHAR(PB)</td>\n",
       "      <td>January</td>\n",
       "      <td>2012</td>\n",
       "      <td>1035</td>\n",
       "      <td>523</td>\n",
       "      <td>686</td>\n",
       "      <td>605</td>\n",
       "      <td>PB</td>\n",
       "      <td>ABOHAR</td>\n",
       "      <td>January-2012</td>\n",
       "    </tr>\n",
       "  </tbody>\n",
       "</table>\n",
       "</div>"
      ],
      "text/plain": [
       "       market    month  year  quantity  priceMin  priceMax  priceMod state  \\\n",
       "0  ABOHAR(PB)  January  2005      2350       404       493       446    PB   \n",
       "1  ABOHAR(PB)  January  2006       900       487       638       563    PB   \n",
       "2  ABOHAR(PB)  January  2010       790      1283      1592      1460    PB   \n",
       "3  ABOHAR(PB)  January  2011       245      3067      3750      3433    PB   \n",
       "4  ABOHAR(PB)  January  2012      1035       523       686       605    PB   \n",
       "\n",
       "     city          date  \n",
       "0  ABOHAR  January-2005  \n",
       "1  ABOHAR  January-2006  \n",
       "2  ABOHAR  January-2010  \n",
       "3  ABOHAR  January-2011  \n",
       "4  ABOHAR  January-2012  "
      ]
     },
     "execution_count": 5,
     "metadata": {},
     "output_type": "execute_result"
    }
   ],
   "source": [
    "# load data\n",
    "\n",
    "df = pd.read_csv(\"MonthWiseMarketArrivals_clean.csv\")\n",
    "df.head()"
   ]
  },
  {
   "cell_type": "code",
   "execution_count": 6,
   "id": "deea766f",
   "metadata": {},
   "outputs": [
    {
     "data": {
      "text/plain": [
       "(10227, 10)"
      ]
     },
     "execution_count": 6,
     "metadata": {},
     "output_type": "execute_result"
    }
   ],
   "source": [
    "# Exploring data\n",
    "\n",
    "df.shape"
   ]
  },
  {
   "cell_type": "code",
   "execution_count": 7,
   "id": "40610099",
   "metadata": {
    "scrolled": true
   },
   "outputs": [
    {
     "name": "stdout",
     "output_type": "stream",
     "text": [
      "<class 'pandas.core.frame.DataFrame'>\n",
      "RangeIndex: 10227 entries, 0 to 10226\n",
      "Data columns (total 10 columns):\n",
      " #   Column    Non-Null Count  Dtype \n",
      "---  ------    --------------  ----- \n",
      " 0   market    10227 non-null  object\n",
      " 1   month     10227 non-null  object\n",
      " 2   year      10227 non-null  int64 \n",
      " 3   quantity  10227 non-null  int64 \n",
      " 4   priceMin  10227 non-null  int64 \n",
      " 5   priceMax  10227 non-null  int64 \n",
      " 6   priceMod  10227 non-null  int64 \n",
      " 7   state     10227 non-null  object\n",
      " 8   city      10227 non-null  object\n",
      " 9   date      10227 non-null  object\n",
      "dtypes: int64(5), object(5)\n",
      "memory usage: 799.1+ KB\n"
     ]
    }
   ],
   "source": [
    "df.info()"
   ]
  },
  {
   "cell_type": "code",
   "execution_count": 8,
   "id": "0212d06f",
   "metadata": {},
   "outputs": [
    {
     "data": {
      "text/plain": [
       "market      object\n",
       "month       object\n",
       "year         int64\n",
       "quantity     int64\n",
       "priceMin     int64\n",
       "priceMax     int64\n",
       "priceMod     int64\n",
       "state       object\n",
       "city        object\n",
       "date        object\n",
       "dtype: object"
      ]
     },
     "execution_count": 8,
     "metadata": {},
     "output_type": "execute_result"
    }
   ],
   "source": [
    "# DataTypes of columns\n",
    "\n",
    "df.dtypes"
   ]
  },
  {
   "cell_type": "code",
   "execution_count": 9,
   "id": "57447403",
   "metadata": {
    "scrolled": true
   },
   "outputs": [
    {
     "data": {
      "text/html": [
       "<div>\n",
       "<style scoped>\n",
       "    .dataframe tbody tr th:only-of-type {\n",
       "        vertical-align: middle;\n",
       "    }\n",
       "\n",
       "    .dataframe tbody tr th {\n",
       "        vertical-align: top;\n",
       "    }\n",
       "\n",
       "    .dataframe thead th {\n",
       "        text-align: right;\n",
       "    }\n",
       "</style>\n",
       "<table border=\"1\" class=\"dataframe\">\n",
       "  <thead>\n",
       "    <tr style=\"text-align: right;\">\n",
       "      <th></th>\n",
       "      <th>market</th>\n",
       "      <th>month</th>\n",
       "      <th>year</th>\n",
       "      <th>quantity</th>\n",
       "      <th>priceMin</th>\n",
       "      <th>priceMax</th>\n",
       "      <th>priceMod</th>\n",
       "      <th>state</th>\n",
       "      <th>city</th>\n",
       "      <th>date</th>\n",
       "    </tr>\n",
       "  </thead>\n",
       "  <tbody>\n",
       "    <tr>\n",
       "      <th>count</th>\n",
       "      <td>10227</td>\n",
       "      <td>10227</td>\n",
       "      <td>10227.000000</td>\n",
       "      <td>1.022700e+04</td>\n",
       "      <td>10227.000000</td>\n",
       "      <td>10227.000000</td>\n",
       "      <td>10227.000000</td>\n",
       "      <td>10227</td>\n",
       "      <td>10227</td>\n",
       "      <td>10227</td>\n",
       "    </tr>\n",
       "    <tr>\n",
       "      <th>unique</th>\n",
       "      <td>120</td>\n",
       "      <td>12</td>\n",
       "      <td>NaN</td>\n",
       "      <td>NaN</td>\n",
       "      <td>NaN</td>\n",
       "      <td>NaN</td>\n",
       "      <td>NaN</td>\n",
       "      <td>21</td>\n",
       "      <td>117</td>\n",
       "      <td>242</td>\n",
       "    </tr>\n",
       "    <tr>\n",
       "      <th>top</th>\n",
       "      <td>LASALGAON(MS)</td>\n",
       "      <td>February</td>\n",
       "      <td>NaN</td>\n",
       "      <td>NaN</td>\n",
       "      <td>NaN</td>\n",
       "      <td>NaN</td>\n",
       "      <td>NaN</td>\n",
       "      <td>MS</td>\n",
       "      <td>LASALGAON</td>\n",
       "      <td>September-2015</td>\n",
       "    </tr>\n",
       "    <tr>\n",
       "      <th>freq</th>\n",
       "      <td>242</td>\n",
       "      <td>930</td>\n",
       "      <td>NaN</td>\n",
       "      <td>NaN</td>\n",
       "      <td>NaN</td>\n",
       "      <td>NaN</td>\n",
       "      <td>NaN</td>\n",
       "      <td>4354</td>\n",
       "      <td>242</td>\n",
       "      <td>97</td>\n",
       "    </tr>\n",
       "    <tr>\n",
       "      <th>mean</th>\n",
       "      <td>NaN</td>\n",
       "      <td>NaN</td>\n",
       "      <td>2009.022294</td>\n",
       "      <td>7.660488e+04</td>\n",
       "      <td>646.944363</td>\n",
       "      <td>1212.760731</td>\n",
       "      <td>984.284345</td>\n",
       "      <td>NaN</td>\n",
       "      <td>NaN</td>\n",
       "      <td>NaN</td>\n",
       "    </tr>\n",
       "    <tr>\n",
       "      <th>std</th>\n",
       "      <td>NaN</td>\n",
       "      <td>NaN</td>\n",
       "      <td>4.372841</td>\n",
       "      <td>1.244087e+05</td>\n",
       "      <td>673.121850</td>\n",
       "      <td>979.658874</td>\n",
       "      <td>818.471498</td>\n",
       "      <td>NaN</td>\n",
       "      <td>NaN</td>\n",
       "      <td>NaN</td>\n",
       "    </tr>\n",
       "    <tr>\n",
       "      <th>min</th>\n",
       "      <td>NaN</td>\n",
       "      <td>NaN</td>\n",
       "      <td>1996.000000</td>\n",
       "      <td>2.000000e+01</td>\n",
       "      <td>16.000000</td>\n",
       "      <td>145.000000</td>\n",
       "      <td>80.000000</td>\n",
       "      <td>NaN</td>\n",
       "      <td>NaN</td>\n",
       "      <td>NaN</td>\n",
       "    </tr>\n",
       "    <tr>\n",
       "      <th>25%</th>\n",
       "      <td>NaN</td>\n",
       "      <td>NaN</td>\n",
       "      <td>2006.000000</td>\n",
       "      <td>8.898000e+03</td>\n",
       "      <td>209.000000</td>\n",
       "      <td>557.000000</td>\n",
       "      <td>448.000000</td>\n",
       "      <td>NaN</td>\n",
       "      <td>NaN</td>\n",
       "      <td>NaN</td>\n",
       "    </tr>\n",
       "    <tr>\n",
       "      <th>50%</th>\n",
       "      <td>NaN</td>\n",
       "      <td>NaN</td>\n",
       "      <td>2009.000000</td>\n",
       "      <td>2.746000e+04</td>\n",
       "      <td>440.000000</td>\n",
       "      <td>923.000000</td>\n",
       "      <td>747.000000</td>\n",
       "      <td>NaN</td>\n",
       "      <td>NaN</td>\n",
       "      <td>NaN</td>\n",
       "    </tr>\n",
       "    <tr>\n",
       "      <th>75%</th>\n",
       "      <td>NaN</td>\n",
       "      <td>NaN</td>\n",
       "      <td>2013.000000</td>\n",
       "      <td>8.835650e+04</td>\n",
       "      <td>828.000000</td>\n",
       "      <td>1527.000000</td>\n",
       "      <td>1248.000000</td>\n",
       "      <td>NaN</td>\n",
       "      <td>NaN</td>\n",
       "      <td>NaN</td>\n",
       "    </tr>\n",
       "    <tr>\n",
       "      <th>max</th>\n",
       "      <td>NaN</td>\n",
       "      <td>NaN</td>\n",
       "      <td>2016.000000</td>\n",
       "      <td>1.639032e+06</td>\n",
       "      <td>6000.000000</td>\n",
       "      <td>8192.000000</td>\n",
       "      <td>6400.000000</td>\n",
       "      <td>NaN</td>\n",
       "      <td>NaN</td>\n",
       "      <td>NaN</td>\n",
       "    </tr>\n",
       "  </tbody>\n",
       "</table>\n",
       "</div>"
      ],
      "text/plain": [
       "               market     month          year      quantity      priceMin  \\\n",
       "count           10227     10227  10227.000000  1.022700e+04  10227.000000   \n",
       "unique            120        12           NaN           NaN           NaN   \n",
       "top     LASALGAON(MS)  February           NaN           NaN           NaN   \n",
       "freq              242       930           NaN           NaN           NaN   \n",
       "mean              NaN       NaN   2009.022294  7.660488e+04    646.944363   \n",
       "std               NaN       NaN      4.372841  1.244087e+05    673.121850   \n",
       "min               NaN       NaN   1996.000000  2.000000e+01     16.000000   \n",
       "25%               NaN       NaN   2006.000000  8.898000e+03    209.000000   \n",
       "50%               NaN       NaN   2009.000000  2.746000e+04    440.000000   \n",
       "75%               NaN       NaN   2013.000000  8.835650e+04    828.000000   \n",
       "max               NaN       NaN   2016.000000  1.639032e+06   6000.000000   \n",
       "\n",
       "            priceMax      priceMod  state       city            date  \n",
       "count   10227.000000  10227.000000  10227      10227           10227  \n",
       "unique           NaN           NaN     21        117             242  \n",
       "top              NaN           NaN     MS  LASALGAON  September-2015  \n",
       "freq             NaN           NaN   4354        242              97  \n",
       "mean     1212.760731    984.284345    NaN        NaN             NaN  \n",
       "std       979.658874    818.471498    NaN        NaN             NaN  \n",
       "min       145.000000     80.000000    NaN        NaN             NaN  \n",
       "25%       557.000000    448.000000    NaN        NaN             NaN  \n",
       "50%       923.000000    747.000000    NaN        NaN             NaN  \n",
       "75%      1527.000000   1248.000000    NaN        NaN             NaN  \n",
       "max      8192.000000   6400.000000    NaN        NaN             NaN  "
      ]
     },
     "execution_count": 9,
     "metadata": {},
     "output_type": "execute_result"
    }
   ],
   "source": [
    "df.describe(include=\"all\")"
   ]
  },
  {
   "cell_type": "code",
   "execution_count": 31,
   "id": "64b236e4",
   "metadata": {},
   "outputs": [],
   "source": [
    "df = df.drop(columns = [\"year\", \"state\", ], axis  = 1)"
   ]
  },
  {
   "cell_type": "code",
   "execution_count": 30,
   "id": "5466311e",
   "metadata": {},
   "outputs": [
    {
     "data": {
      "text/html": [
       "<div>\n",
       "<style scoped>\n",
       "    .dataframe tbody tr th:only-of-type {\n",
       "        vertical-align: middle;\n",
       "    }\n",
       "\n",
       "    .dataframe tbody tr th {\n",
       "        vertical-align: top;\n",
       "    }\n",
       "\n",
       "    .dataframe thead th {\n",
       "        text-align: right;\n",
       "    }\n",
       "</style>\n",
       "<table border=\"1\" class=\"dataframe\">\n",
       "  <thead>\n",
       "    <tr style=\"text-align: right;\">\n",
       "      <th></th>\n",
       "      <th>market</th>\n",
       "      <th>month</th>\n",
       "      <th>year</th>\n",
       "      <th>quantity</th>\n",
       "      <th>priceMin</th>\n",
       "      <th>priceMax</th>\n",
       "      <th>priceMod</th>\n",
       "      <th>state</th>\n",
       "      <th>city</th>\n",
       "      <th>date</th>\n",
       "    </tr>\n",
       "    <tr>\n",
       "      <th>date</th>\n",
       "      <th></th>\n",
       "      <th></th>\n",
       "      <th></th>\n",
       "      <th></th>\n",
       "      <th></th>\n",
       "      <th></th>\n",
       "      <th></th>\n",
       "      <th></th>\n",
       "      <th></th>\n",
       "      <th></th>\n",
       "    </tr>\n",
       "  </thead>\n",
       "  <tbody>\n",
       "    <tr>\n",
       "      <th>2005-01</th>\n",
       "      <td>ABOHAR(PB)</td>\n",
       "      <td>January</td>\n",
       "      <td>2005</td>\n",
       "      <td>2350</td>\n",
       "      <td>404</td>\n",
       "      <td>493</td>\n",
       "      <td>446</td>\n",
       "      <td>PB</td>\n",
       "      <td>ABOHAR</td>\n",
       "      <td>2005-01-01</td>\n",
       "    </tr>\n",
       "    <tr>\n",
       "      <th>2006-01</th>\n",
       "      <td>ABOHAR(PB)</td>\n",
       "      <td>January</td>\n",
       "      <td>2006</td>\n",
       "      <td>900</td>\n",
       "      <td>487</td>\n",
       "      <td>638</td>\n",
       "      <td>563</td>\n",
       "      <td>PB</td>\n",
       "      <td>ABOHAR</td>\n",
       "      <td>2006-01-01</td>\n",
       "    </tr>\n",
       "    <tr>\n",
       "      <th>2010-01</th>\n",
       "      <td>ABOHAR(PB)</td>\n",
       "      <td>January</td>\n",
       "      <td>2010</td>\n",
       "      <td>790</td>\n",
       "      <td>1283</td>\n",
       "      <td>1592</td>\n",
       "      <td>1460</td>\n",
       "      <td>PB</td>\n",
       "      <td>ABOHAR</td>\n",
       "      <td>2010-01-01</td>\n",
       "    </tr>\n",
       "    <tr>\n",
       "      <th>2011-01</th>\n",
       "      <td>ABOHAR(PB)</td>\n",
       "      <td>January</td>\n",
       "      <td>2011</td>\n",
       "      <td>245</td>\n",
       "      <td>3067</td>\n",
       "      <td>3750</td>\n",
       "      <td>3433</td>\n",
       "      <td>PB</td>\n",
       "      <td>ABOHAR</td>\n",
       "      <td>2011-01-01</td>\n",
       "    </tr>\n",
       "    <tr>\n",
       "      <th>2012-01</th>\n",
       "      <td>ABOHAR(PB)</td>\n",
       "      <td>January</td>\n",
       "      <td>2012</td>\n",
       "      <td>1035</td>\n",
       "      <td>523</td>\n",
       "      <td>686</td>\n",
       "      <td>605</td>\n",
       "      <td>PB</td>\n",
       "      <td>ABOHAR</td>\n",
       "      <td>2012-01-01</td>\n",
       "    </tr>\n",
       "  </tbody>\n",
       "</table>\n",
       "</div>"
      ],
      "text/plain": [
       "             market    month  year  quantity  priceMin  priceMax  priceMod  \\\n",
       "date                                                                         \n",
       "2005-01  ABOHAR(PB)  January  2005      2350       404       493       446   \n",
       "2006-01  ABOHAR(PB)  January  2006       900       487       638       563   \n",
       "2010-01  ABOHAR(PB)  January  2010       790      1283      1592      1460   \n",
       "2011-01  ABOHAR(PB)  January  2011       245      3067      3750      3433   \n",
       "2012-01  ABOHAR(PB)  January  2012      1035       523       686       605   \n",
       "\n",
       "        state    city       date  \n",
       "date                              \n",
       "2005-01    PB  ABOHAR 2005-01-01  \n",
       "2006-01    PB  ABOHAR 2006-01-01  \n",
       "2010-01    PB  ABOHAR 2010-01-01  \n",
       "2011-01    PB  ABOHAR 2011-01-01  \n",
       "2012-01    PB  ABOHAR 2012-01-01  "
      ]
     },
     "execution_count": 30,
     "metadata": {},
     "output_type": "execute_result"
    }
   ],
   "source": [
    "df.index = pd.PeriodIndex(df.date, freq=\"M\")\n",
    "df.head()"
   ]
  },
  {
   "cell_type": "markdown",
   "id": "8c260820",
   "metadata": {},
   "source": [
    "# Quesion 1\n",
    "\n",
    "### Price of onion for each month for mumbai market\n"
   ]
  },
  {
   "cell_type": "code",
   "execution_count": 32,
   "id": "657d4d1c",
   "metadata": {
    "scrolled": true
   },
   "outputs": [
    {
     "data": {
      "text/html": [
       "<div>\n",
       "<style scoped>\n",
       "    .dataframe tbody tr th:only-of-type {\n",
       "        vertical-align: middle;\n",
       "    }\n",
       "\n",
       "    .dataframe tbody tr th {\n",
       "        vertical-align: top;\n",
       "    }\n",
       "\n",
       "    .dataframe thead th {\n",
       "        text-align: right;\n",
       "    }\n",
       "</style>\n",
       "<table border=\"1\" class=\"dataframe\">\n",
       "  <thead>\n",
       "    <tr style=\"text-align: right;\">\n",
       "      <th></th>\n",
       "      <th>market</th>\n",
       "      <th>month</th>\n",
       "      <th>quantity</th>\n",
       "      <th>priceMin</th>\n",
       "      <th>priceMax</th>\n",
       "      <th>priceMod</th>\n",
       "      <th>city</th>\n",
       "      <th>date</th>\n",
       "    </tr>\n",
       "    <tr>\n",
       "      <th>date</th>\n",
       "      <th></th>\n",
       "      <th></th>\n",
       "      <th></th>\n",
       "      <th></th>\n",
       "      <th></th>\n",
       "      <th></th>\n",
       "      <th></th>\n",
       "      <th></th>\n",
       "    </tr>\n",
       "  </thead>\n",
       "  <tbody>\n",
       "    <tr>\n",
       "      <th>2004-01</th>\n",
       "      <td>MUMBAI</td>\n",
       "      <td>January</td>\n",
       "      <td>267100</td>\n",
       "      <td>719</td>\n",
       "      <td>971</td>\n",
       "      <td>849</td>\n",
       "      <td>MUMBAI</td>\n",
       "      <td>2004-01-01</td>\n",
       "    </tr>\n",
       "    <tr>\n",
       "      <th>2005-01</th>\n",
       "      <td>MUMBAI</td>\n",
       "      <td>January</td>\n",
       "      <td>275845</td>\n",
       "      <td>261</td>\n",
       "      <td>513</td>\n",
       "      <td>387</td>\n",
       "      <td>MUMBAI</td>\n",
       "      <td>2005-01-01</td>\n",
       "    </tr>\n",
       "    <tr>\n",
       "      <th>2006-01</th>\n",
       "      <td>MUMBAI</td>\n",
       "      <td>January</td>\n",
       "      <td>228000</td>\n",
       "      <td>315</td>\n",
       "      <td>488</td>\n",
       "      <td>402</td>\n",
       "      <td>MUMBAI</td>\n",
       "      <td>2006-01-01</td>\n",
       "    </tr>\n",
       "    <tr>\n",
       "      <th>2007-01</th>\n",
       "      <td>MUMBAI</td>\n",
       "      <td>January</td>\n",
       "      <td>205200</td>\n",
       "      <td>866</td>\n",
       "      <td>1136</td>\n",
       "      <td>997</td>\n",
       "      <td>MUMBAI</td>\n",
       "      <td>2007-01-01</td>\n",
       "    </tr>\n",
       "    <tr>\n",
       "      <th>2008-01</th>\n",
       "      <td>MUMBAI</td>\n",
       "      <td>January</td>\n",
       "      <td>267550</td>\n",
       "      <td>348</td>\n",
       "      <td>550</td>\n",
       "      <td>448</td>\n",
       "      <td>MUMBAI</td>\n",
       "      <td>2008-01-01</td>\n",
       "    </tr>\n",
       "  </tbody>\n",
       "</table>\n",
       "</div>"
      ],
      "text/plain": [
       "         market    month  quantity  priceMin  priceMax  priceMod    city  \\\n",
       "date                                                                       \n",
       "2004-01  MUMBAI  January    267100       719       971       849  MUMBAI   \n",
       "2005-01  MUMBAI  January    275845       261       513       387  MUMBAI   \n",
       "2006-01  MUMBAI  January    228000       315       488       402  MUMBAI   \n",
       "2007-01  MUMBAI  January    205200       866      1136       997  MUMBAI   \n",
       "2008-01  MUMBAI  January    267550       348       550       448  MUMBAI   \n",
       "\n",
       "              date  \n",
       "date                \n",
       "2004-01 2004-01-01  \n",
       "2005-01 2005-01-01  \n",
       "2006-01 2006-01-01  \n",
       "2007-01 2007-01-01  \n",
       "2008-01 2008-01-01  "
      ]
     },
     "execution_count": 32,
     "metadata": {},
     "output_type": "execute_result"
    }
   ],
   "source": [
    "df_mumbai = df.loc[df.city == \"MUMBAI\"].copy()\n",
    "df_mumbai.head()"
   ]
  },
  {
   "cell_type": "code",
   "execution_count": 33,
   "id": "45c7ab78",
   "metadata": {
    "scrolled": false
   },
   "outputs": [
    {
     "data": {
      "text/html": [
       "<div>\n",
       "<style scoped>\n",
       "    .dataframe tbody tr th:only-of-type {\n",
       "        vertical-align: middle;\n",
       "    }\n",
       "\n",
       "    .dataframe tbody tr th {\n",
       "        vertical-align: top;\n",
       "    }\n",
       "\n",
       "    .dataframe thead th {\n",
       "        text-align: right;\n",
       "    }\n",
       "</style>\n",
       "<table border=\"1\" class=\"dataframe\">\n",
       "  <thead>\n",
       "    <tr style=\"text-align: right;\">\n",
       "      <th></th>\n",
       "      <th>priceMod</th>\n",
       "    </tr>\n",
       "    <tr>\n",
       "      <th>month</th>\n",
       "      <th></th>\n",
       "    </tr>\n",
       "  </thead>\n",
       "  <tbody>\n",
       "    <tr>\n",
       "      <th>April</th>\n",
       "      <td>7579</td>\n",
       "    </tr>\n",
       "    <tr>\n",
       "      <th>August</th>\n",
       "      <td>17129</td>\n",
       "    </tr>\n",
       "    <tr>\n",
       "      <th>December</th>\n",
       "      <td>15826</td>\n",
       "    </tr>\n",
       "    <tr>\n",
       "      <th>February</th>\n",
       "      <td>11245</td>\n",
       "    </tr>\n",
       "    <tr>\n",
       "      <th>January</th>\n",
       "      <td>14185</td>\n",
       "    </tr>\n",
       "    <tr>\n",
       "      <th>July</th>\n",
       "      <td>12578</td>\n",
       "    </tr>\n",
       "    <tr>\n",
       "      <th>June</th>\n",
       "      <td>10615</td>\n",
       "    </tr>\n",
       "    <tr>\n",
       "      <th>March</th>\n",
       "      <td>8092</td>\n",
       "    </tr>\n",
       "    <tr>\n",
       "      <th>May</th>\n",
       "      <td>8156</td>\n",
       "    </tr>\n",
       "    <tr>\n",
       "      <th>November</th>\n",
       "      <td>18856</td>\n",
       "    </tr>\n",
       "    <tr>\n",
       "      <th>October</th>\n",
       "      <td>19406</td>\n",
       "    </tr>\n",
       "    <tr>\n",
       "      <th>September</th>\n",
       "      <td>19043</td>\n",
       "    </tr>\n",
       "  </tbody>\n",
       "</table>\n",
       "</div>"
      ],
      "text/plain": [
       "           priceMod\n",
       "month              \n",
       "April          7579\n",
       "August        17129\n",
       "December      15826\n",
       "February      11245\n",
       "January       14185\n",
       "July          12578\n",
       "June          10615\n",
       "March          8092\n",
       "May            8156\n",
       "November      18856\n",
       "October       19406\n",
       "September     19043"
      ]
     },
     "execution_count": 33,
     "metadata": {},
     "output_type": "execute_result"
    }
   ],
   "source": [
    "df_mum = df_mumbai.groupby(\"month\").sum()\n",
    "df_mum[[\"priceMod\"]]"
   ]
  },
  {
   "cell_type": "code",
   "execution_count": 34,
   "id": "0a04a52b",
   "metadata": {},
   "outputs": [],
   "source": [
    "df_mumbai = df_mumbai.drop(columns = [\"quantity\"], axis  = 1)"
   ]
  },
  {
   "cell_type": "code",
   "execution_count": 37,
   "id": "da38d45e",
   "metadata": {
    "scrolled": true
   },
   "outputs": [
    {
     "data": {
      "text/plain": [
       "<AxesSubplot:ylabel='Frequency'>"
      ]
     },
     "execution_count": 37,
     "metadata": {},
     "output_type": "execute_result"
    },
    {
     "data": {
      "image/png": "[encoded data removed]",
      "text/plain": [
       "<Figure size 432x288 with 1 Axes>"
      ]
     },
     "metadata": {
      "needs_background": "light"
     },
     "output_type": "display_data"
    }
   ],
   "source": [
    "df_mumbai[\"priceMod\"].plot(kind=\"hist\", bins=20, colormap = 'twilight_shifted_r')"
   ]
  },
  {
   "cell_type": "code",
   "execution_count": 39,
   "id": "f8b249a2",
   "metadata": {},
   "outputs": [
    {
     "data": {
      "text/plain": [
       "<AxesSubplot:ylabel='Frequency'>"
      ]
     },
     "execution_count": 39,
     "metadata": {},
     "output_type": "execute_result"
    },
    {
     "data": {
      "image/png": "[encoded data removed]",
      "text/plain": [
       "<Figure size 432x288 with 1 Axes>"
      ]
     },
     "metadata": {
      "needs_background": "light"
     },
     "output_type": "display_data"
    }
   ],
   "source": [
    "df_mumbai[\"log_priceMod\"] = np.log(df_mumbai.priceMod)\n",
    "df_mumbai.log_priceMod.plot(kind=\"hist\", bins=20, colormap = 'twilight_shifted_r')"
   ]
  },
  {
   "cell_type": "markdown",
   "id": "9d8f5f2e",
   "metadata": {},
   "source": [
    "# Question 2\n",
    "\n",
    "### Build time series model and check the performance of the model using RMSE"
   ]
  },
  {
   "cell_type": "code",
   "execution_count": 40,
   "id": "2c81ac90",
   "metadata": {
    "scrolled": true
   },
   "outputs": [
    {
     "data": {
      "text/html": [
       "<div>\n",
       "<style scoped>\n",
       "    .dataframe tbody tr th:only-of-type {\n",
       "        vertical-align: middle;\n",
       "    }\n",
       "\n",
       "    .dataframe tbody tr th {\n",
       "        vertical-align: top;\n",
       "    }\n",
       "\n",
       "    .dataframe thead th {\n",
       "        text-align: right;\n",
       "    }\n",
       "</style>\n",
       "<table border=\"1\" class=\"dataframe\">\n",
       "  <thead>\n",
       "    <tr style=\"text-align: right;\">\n",
       "      <th></th>\n",
       "      <th>market</th>\n",
       "      <th>month</th>\n",
       "      <th>priceMin</th>\n",
       "      <th>priceMax</th>\n",
       "      <th>priceMod</th>\n",
       "      <th>city</th>\n",
       "      <th>date</th>\n",
       "      <th>log_priceMod</th>\n",
       "      <th>mean_price</th>\n",
       "    </tr>\n",
       "    <tr>\n",
       "      <th>date</th>\n",
       "      <th></th>\n",
       "      <th></th>\n",
       "      <th></th>\n",
       "      <th></th>\n",
       "      <th></th>\n",
       "      <th></th>\n",
       "      <th></th>\n",
       "      <th></th>\n",
       "      <th></th>\n",
       "    </tr>\n",
       "  </thead>\n",
       "  <tbody>\n",
       "    <tr>\n",
       "      <th>2004-01</th>\n",
       "      <td>MUMBAI</td>\n",
       "      <td>January</td>\n",
       "      <td>719</td>\n",
       "      <td>971</td>\n",
       "      <td>849</td>\n",
       "      <td>MUMBAI</td>\n",
       "      <td>2004-01-01</td>\n",
       "      <td>6.744059</td>\n",
       "      <td>889.100239</td>\n",
       "    </tr>\n",
       "    <tr>\n",
       "      <th>2005-01</th>\n",
       "      <td>MUMBAI</td>\n",
       "      <td>January</td>\n",
       "      <td>261</td>\n",
       "      <td>513</td>\n",
       "      <td>387</td>\n",
       "      <td>MUMBAI</td>\n",
       "      <td>2005-01-01</td>\n",
       "      <td>5.958425</td>\n",
       "      <td>889.100239</td>\n",
       "    </tr>\n",
       "    <tr>\n",
       "      <th>2006-01</th>\n",
       "      <td>MUMBAI</td>\n",
       "      <td>January</td>\n",
       "      <td>315</td>\n",
       "      <td>488</td>\n",
       "      <td>402</td>\n",
       "      <td>MUMBAI</td>\n",
       "      <td>2006-01-01</td>\n",
       "      <td>5.996452</td>\n",
       "      <td>889.100239</td>\n",
       "    </tr>\n",
       "    <tr>\n",
       "      <th>2007-01</th>\n",
       "      <td>MUMBAI</td>\n",
       "      <td>January</td>\n",
       "      <td>866</td>\n",
       "      <td>1136</td>\n",
       "      <td>997</td>\n",
       "      <td>MUMBAI</td>\n",
       "      <td>2007-01-01</td>\n",
       "      <td>6.904751</td>\n",
       "      <td>889.100239</td>\n",
       "    </tr>\n",
       "    <tr>\n",
       "      <th>2008-01</th>\n",
       "      <td>MUMBAI</td>\n",
       "      <td>January</td>\n",
       "      <td>348</td>\n",
       "      <td>550</td>\n",
       "      <td>448</td>\n",
       "      <td>MUMBAI</td>\n",
       "      <td>2008-01-01</td>\n",
       "      <td>6.104793</td>\n",
       "      <td>889.100239</td>\n",
       "    </tr>\n",
       "  </tbody>\n",
       "</table>\n",
       "</div>"
      ],
      "text/plain": [
       "         market    month  priceMin  priceMax  priceMod    city       date  \\\n",
       "date                                                                        \n",
       "2004-01  MUMBAI  January       719       971       849  MUMBAI 2004-01-01   \n",
       "2005-01  MUMBAI  January       261       513       387  MUMBAI 2005-01-01   \n",
       "2006-01  MUMBAI  January       315       488       402  MUMBAI 2006-01-01   \n",
       "2007-01  MUMBAI  January       866      1136       997  MUMBAI 2007-01-01   \n",
       "2008-01  MUMBAI  January       348       550       448  MUMBAI 2008-01-01   \n",
       "\n",
       "         log_priceMod  mean_price  \n",
       "date                               \n",
       "2004-01      6.744059  889.100239  \n",
       "2005-01      5.958425  889.100239  \n",
       "2006-01      5.996452  889.100239  \n",
       "2007-01      6.904751  889.100239  \n",
       "2008-01      6.104793  889.100239  "
      ]
     },
     "execution_count": 40,
     "metadata": {},
     "output_type": "execute_result"
    }
   ],
   "source": [
    "df_mumbai_mean = df_mumbai.log_priceMod.mean()\n",
    "df_mumbai[\"mean_price\"] = np.exp(df_mumbai_mean)\n",
    "df_mumbai.head()"
   ]
  },
  {
   "cell_type": "code",
   "execution_count": 69,
   "id": "0b305332",
   "metadata": {
    "scrolled": true
   },
   "outputs": [
    {
     "data": {
      "text/plain": [
       "<AxesSubplot:xlabel='date'>"
      ]
     },
     "execution_count": 69,
     "metadata": {},
     "output_type": "execute_result"
    },
    {
     "data": {
      "image/png": "[encoded data removed]",
      "text/plain": [
       "<Figure size 432x288 with 1 Axes>"
      ]
     },
     "metadata": {
      "needs_background": "light"
     },
     "output_type": "display_data"
    }
   ],
   "source": [
    "df_mumbai.plot(kind=\"line\", x=\"date\", y=[\"priceMod\", \"mean_price\"])"
   ]
  },
  {
   "cell_type": "code",
   "execution_count": 45,
   "id": "71c302ce",
   "metadata": {},
   "outputs": [],
   "source": [
    "def RMSE(actual, predicted):\n",
    "    mse = (actual - predicted)**2\n",
    "    rmse = np.sqrt(mse.sum()/mse.count())\n",
    "    return rmse"
   ]
  },
  {
   "cell_type": "code",
   "execution_count": 46,
   "id": "20bd61bf",
   "metadata": {
    "scrolled": true
   },
   "outputs": [
    {
     "data": {
      "text/plain": [
       "908.4772843986449"
      ]
     },
     "execution_count": 46,
     "metadata": {},
     "output_type": "execute_result"
    }
   ],
   "source": [
    "modelRMSE = RMSE(df_mumbai.priceMod, df_mumbai.mean_price)\n",
    "modelRMSE"
   ]
  },
  {
   "cell_type": "markdown",
   "id": "0cdb77d1",
   "metadata": {},
   "source": [
    "# Question 3\n",
    "\n",
    "### ACF and PACF plots"
   ]
  },
  {
   "cell_type": "code",
   "execution_count": 52,
   "id": "6c67e4a8",
   "metadata": {},
   "outputs": [],
   "source": [
    "ts = df_mumbai.log_priceMod"
   ]
  },
  {
   "cell_type": "code",
   "execution_count": 55,
   "id": "5a7ad942",
   "metadata": {},
   "outputs": [
    {
     "name": "stderr",
     "output_type": "stream",
     "text": [
      "C:\\Users\\Ambareeshkumar.k\\anaconda3\\lib\\site-packages\\statsmodels\\tsa\\stattools.py:667: FutureWarning: fft=True will become the default after the release of the 0.12 release of statsmodels. To suppress this warning, explicitly set fft=False.\n",
      "  warnings.warn(\n"
     ]
    },
    {
     "data": {
      "text/plain": [
       "array([ 1.        ,  0.31319668,  0.37165336, -0.06140673,  0.16869007,\n",
       "       -0.02175521,  0.16634997,  0.01127215,  0.10597047, -0.07053858,\n",
       "        0.27560045,  0.29894124,  0.78300906,  0.35419085,  0.29376392,\n",
       "       -0.02414901,  0.1003445 ,  0.00663592,  0.1009527 ,  0.02262413,\n",
       "        0.07107539])"
      ]
     },
     "execution_count": 55,
     "metadata": {},
     "output_type": "execute_result"
    }
   ],
   "source": [
    "lag_acf = acf(ts, nlags=20)\n",
    "lag_acf"
   ]
  },
  {
   "cell_type": "code",
   "execution_count": 68,
   "id": "a5f6eff7",
   "metadata": {
    "scrolled": true
   },
   "outputs": [
    {
     "data": {
      "text/plain": [
       "<AxesSubplot:>"
      ]
     },
     "execution_count": 68,
     "metadata": {},
     "output_type": "execute_result"
    },
    {
     "data": {
      "image/png": "[encoded data removed]",
      "text/plain": [
       "<Figure size 432x288 with 1 Axes>"
      ]
     },
     "metadata": {
      "needs_background": "light"
     },
     "output_type": "display_data"
    }
   ],
   "source": [
    "ACF = pd.Series(lag_acf)\n",
    "ACF.plot(kind=\"bar\", colormap = 'twilight_shifted_r')"
   ]
  },
  {
   "cell_type": "code",
   "execution_count": 65,
   "id": "2e05edc5",
   "metadata": {},
   "outputs": [
    {
     "data": {
      "text/plain": [
       "<AxesSubplot:>"
      ]
     },
     "execution_count": 65,
     "metadata": {},
     "output_type": "execute_result"
    },
    {
     "data": {
      "image/png": "[encoded data removed]",
      "text/plain": [
       "<Figure size 432x288 with 1 Axes>"
      ]
     },
     "metadata": {
      "needs_background": "light"
     },
     "output_type": "display_data"
    }
   ],
   "source": [
    "lag_pacf = pacf(ts, nlags=20, method='ols')\n",
    "PACF = pd.Series(lag_pacf)\n",
    "PACF.plot(kind=\"bar\", colormap = 'coolwarm')"
   ]
  }
 ],
 "metadata": {
  "kernelspec": {
   "display_name": "Python 3 (ipykernel)",
   "language": "python",
   "name": "python3"
  },
  "language_info": {
   "codemirror_mode": {
    "name": "ipython",
    "version": 3
   },
   "file_extension": ".py",
   "mimetype": "text/x-python",
   "name": "python",
   "nbconvert_exporter": "python",
   "pygments_lexer": "ipython3",
   "version": "3.9.7"
  }
 },
 "nbformat": 4,
 "nbformat_minor": 5
}
